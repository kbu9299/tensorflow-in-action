{
 "cells": [
  {
   "cell_type": "code",
   "execution_count": 1,
   "metadata": {
    "colab": {
     "base_uri": "https://localhost:8080/",
     "height": 1000
    },
    "colab_type": "code",
    "id": "GNkzTFfynsmV",
    "outputId": "cedc54f4-0b73-422f-cd4a-846e484b9d84"
   },
   "outputs": [
    {
     "name": "stdout",
     "output_type": "stream",
     "text": [
      "Collecting tensorflow==2\n",
      "\u001b[?25l  Downloading https://files.pythonhosted.org/packages/46/0f/7bd55361168bb32796b360ad15a25de6966c9c1beb58a8e30c01c8279862/tensorflow-2.0.0-cp36-cp36m-manylinux2010_x86_64.whl (86.3MB)\n",
      "\u001b[K     |████████████████████████████████| 86.3MB 117kB/s \n",
      "\u001b[?25hRequirement already satisfied: numpy<2.0,>=1.16.0 in /usr/local/lib/python3.6/dist-packages (from tensorflow==2) (1.17.3)\n",
      "Requirement already satisfied: six>=1.10.0 in /usr/local/lib/python3.6/dist-packages (from tensorflow==2) (1.12.0)\n",
      "Requirement already satisfied: gast==0.2.2 in /usr/local/lib/python3.6/dist-packages (from tensorflow==2) (0.2.2)\n",
      "Collecting tensorboard<2.1.0,>=2.0.0\n",
      "\u001b[?25l  Downloading https://files.pythonhosted.org/packages/d3/9e/a48cd34dd7b672ffc227b566f7d16d63c62c58b542d54efa45848c395dd4/tensorboard-2.0.1-py3-none-any.whl (3.8MB)\n",
      "\u001b[K     |████████████████████████████████| 3.8MB 35.3MB/s \n",
      "\u001b[?25hRequirement already satisfied: google-pasta>=0.1.6 in /usr/local/lib/python3.6/dist-packages (from tensorflow==2) (0.1.7)\n",
      "Requirement already satisfied: termcolor>=1.1.0 in /usr/local/lib/python3.6/dist-packages (from tensorflow==2) (1.1.0)\n",
      "Requirement already satisfied: opt-einsum>=2.3.2 in /usr/local/lib/python3.6/dist-packages (from tensorflow==2) (3.1.0)\n",
      "Requirement already satisfied: astor>=0.6.0 in /usr/local/lib/python3.6/dist-packages (from tensorflow==2) (0.8.0)\n",
      "Collecting tensorflow-estimator<2.1.0,>=2.0.0\n",
      "\u001b[?25l  Downloading https://files.pythonhosted.org/packages/fc/08/8b927337b7019c374719145d1dceba21a8bb909b93b1ad6f8fb7d22c1ca1/tensorflow_estimator-2.0.1-py2.py3-none-any.whl (449kB)\n",
      "\u001b[K     |████████████████████████████████| 450kB 45.4MB/s \n",
      "\u001b[?25hRequirement already satisfied: keras-preprocessing>=1.0.5 in /usr/local/lib/python3.6/dist-packages (from tensorflow==2) (1.1.0)\n",
      "Requirement already satisfied: wheel>=0.26 in /usr/local/lib/python3.6/dist-packages (from tensorflow==2) (0.33.6)\n",
      "Requirement already satisfied: protobuf>=3.6.1 in /usr/local/lib/python3.6/dist-packages (from tensorflow==2) (3.10.0)\n",
      "Requirement already satisfied: grpcio>=1.8.6 in /usr/local/lib/python3.6/dist-packages (from tensorflow==2) (1.15.0)\n",
      "Requirement already satisfied: wrapt>=1.11.1 in /usr/local/lib/python3.6/dist-packages (from tensorflow==2) (1.11.2)\n",
      "Requirement already satisfied: keras-applications>=1.0.8 in /usr/local/lib/python3.6/dist-packages (from tensorflow==2) (1.0.8)\n",
      "Requirement already satisfied: absl-py>=0.7.0 in /usr/local/lib/python3.6/dist-packages (from tensorflow==2) (0.8.1)\n",
      "Requirement already satisfied: google-auth-oauthlib<0.5,>=0.4.1 in /usr/local/lib/python3.6/dist-packages (from tensorboard<2.1.0,>=2.0.0->tensorflow==2) (0.4.1)\n",
      "Requirement already satisfied: markdown>=2.6.8 in /usr/local/lib/python3.6/dist-packages (from tensorboard<2.1.0,>=2.0.0->tensorflow==2) (3.1.1)\n",
      "Collecting google-auth<2,>=1.6.3\n",
      "\u001b[?25l  Downloading https://files.pythonhosted.org/packages/c5/9b/ed0516cc1f7609fb0217e3057ff4f0f9f3e3ce79a369c6af4a6c5ca25664/google_auth-1.6.3-py2.py3-none-any.whl (73kB)\n",
      "\u001b[K     |████████████████████████████████| 81kB 10.2MB/s \n",
      "\u001b[?25hRequirement already satisfied: setuptools>=41.0.0 in /usr/local/lib/python3.6/dist-packages (from tensorboard<2.1.0,>=2.0.0->tensorflow==2) (41.4.0)\n",
      "Requirement already satisfied: werkzeug>=0.11.15 in /usr/local/lib/python3.6/dist-packages (from tensorboard<2.1.0,>=2.0.0->tensorflow==2) (0.16.0)\n",
      "Requirement already satisfied: h5py in /usr/local/lib/python3.6/dist-packages (from keras-applications>=1.0.8->tensorflow==2) (2.8.0)\n",
      "Requirement already satisfied: requests-oauthlib>=0.7.0 in /usr/local/lib/python3.6/dist-packages (from google-auth-oauthlib<0.5,>=0.4.1->tensorboard<2.1.0,>=2.0.0->tensorflow==2) (1.2.0)\n",
      "Requirement already satisfied: pyasn1-modules>=0.2.1 in /usr/local/lib/python3.6/dist-packages (from google-auth<2,>=1.6.3->tensorboard<2.1.0,>=2.0.0->tensorflow==2) (0.2.7)\n",
      "Requirement already satisfied: cachetools>=2.0.0 in /usr/local/lib/python3.6/dist-packages (from google-auth<2,>=1.6.3->tensorboard<2.1.0,>=2.0.0->tensorflow==2) (3.1.1)\n",
      "Requirement already satisfied: rsa>=3.1.4 in /usr/local/lib/python3.6/dist-packages (from google-auth<2,>=1.6.3->tensorboard<2.1.0,>=2.0.0->tensorflow==2) (4.0)\n",
      "Requirement already satisfied: requests>=2.0.0 in /usr/local/lib/python3.6/dist-packages (from requests-oauthlib>=0.7.0->google-auth-oauthlib<0.5,>=0.4.1->tensorboard<2.1.0,>=2.0.0->tensorflow==2) (2.21.0)\n",
      "Requirement already satisfied: oauthlib>=3.0.0 in /usr/local/lib/python3.6/dist-packages (from requests-oauthlib>=0.7.0->google-auth-oauthlib<0.5,>=0.4.1->tensorboard<2.1.0,>=2.0.0->tensorflow==2) (3.1.0)\n",
      "Requirement already satisfied: pyasn1<0.5.0,>=0.4.6 in /usr/local/lib/python3.6/dist-packages (from pyasn1-modules>=0.2.1->google-auth<2,>=1.6.3->tensorboard<2.1.0,>=2.0.0->tensorflow==2) (0.4.7)\n",
      "Requirement already satisfied: idna<2.9,>=2.5 in /usr/local/lib/python3.6/dist-packages (from requests>=2.0.0->requests-oauthlib>=0.7.0->google-auth-oauthlib<0.5,>=0.4.1->tensorboard<2.1.0,>=2.0.0->tensorflow==2) (2.8)\n",
      "Requirement already satisfied: urllib3<1.25,>=1.21.1 in /usr/local/lib/python3.6/dist-packages (from requests>=2.0.0->requests-oauthlib>=0.7.0->google-auth-oauthlib<0.5,>=0.4.1->tensorboard<2.1.0,>=2.0.0->tensorflow==2) (1.24.3)\n",
      "Requirement already satisfied: chardet<3.1.0,>=3.0.2 in /usr/local/lib/python3.6/dist-packages (from requests>=2.0.0->requests-oauthlib>=0.7.0->google-auth-oauthlib<0.5,>=0.4.1->tensorboard<2.1.0,>=2.0.0->tensorflow==2) (3.0.4)\n",
      "Requirement already satisfied: certifi>=2017.4.17 in /usr/local/lib/python3.6/dist-packages (from requests>=2.0.0->requests-oauthlib>=0.7.0->google-auth-oauthlib<0.5,>=0.4.1->tensorboard<2.1.0,>=2.0.0->tensorflow==2) (2019.9.11)\n",
      "\u001b[31mERROR: tensorboard 2.0.1 has requirement grpcio>=1.24.3, but you'll have grpcio 1.15.0 which is incompatible.\u001b[0m\n",
      "\u001b[31mERROR: google-colab 1.0.0 has requirement google-auth~=1.4.0, but you'll have google-auth 1.6.3 which is incompatible.\u001b[0m\n",
      "Installing collected packages: google-auth, tensorboard, tensorflow-estimator, tensorflow\n",
      "  Found existing installation: google-auth 1.4.2\n",
      "    Uninstalling google-auth-1.4.2:\n",
      "      Successfully uninstalled google-auth-1.4.2\n",
      "  Found existing installation: tensorboard 1.15.0\n",
      "    Uninstalling tensorboard-1.15.0:\n",
      "      Successfully uninstalled tensorboard-1.15.0\n",
      "  Found existing installation: tensorflow-estimator 1.15.1\n",
      "    Uninstalling tensorflow-estimator-1.15.1:\n",
      "      Successfully uninstalled tensorflow-estimator-1.15.1\n",
      "  Found existing installation: tensorflow 1.15.0\n",
      "    Uninstalling tensorflow-1.15.0:\n",
      "      Successfully uninstalled tensorflow-1.15.0\n",
      "Successfully installed google-auth-1.6.3 tensorboard-2.0.1 tensorflow-2.0.0 tensorflow-estimator-2.0.1\n"
     ]
    },
    {
     "data": {
      "application/vnd.colab-display-data+json": {
       "pip_warning": {
        "packages": [
         "google"
        ]
       }
      }
     },
     "metadata": {
      "tags": []
     },
     "output_type": "display_data"
    }
   ],
   "source": [
    "!pip install tensorflow==2"
   ]
  },
  {
   "cell_type": "code",
   "execution_count": 1,
   "metadata": {
    "colab": {
     "base_uri": "https://localhost:8080/",
     "height": 35
    },
    "colab_type": "code",
    "id": "56XEQOGknrAk",
    "outputId": "0a38a4bc-102e-4a85-a375-71e23b17e4a9"
   },
   "outputs": [
    {
     "name": "stdout",
     "output_type": "stream",
     "text": [
      "2.0.0\n"
     ]
    }
   ],
   "source": [
    "import tensorflow as tf\n",
    "print(tf.__version__)"
   ]
  },
  {
   "cell_type": "code",
   "execution_count": 0,
   "metadata": {
    "colab": {},
    "colab_type": "code",
    "id": "sLl52leVp5wU"
   },
   "outputs": [],
   "source": [
    "import numpy as np\n",
    "import matplotlib.pyplot as plt\n",
    "def plot_series(time, series, format=\"-\", start=0, end=None):\n",
    "    plt.plot(time[start:end], series[start:end], format)\n",
    "    plt.xlabel(\"Time\")\n",
    "    plt.ylabel(\"Value\")\n",
    "    plt.grid(True)"
   ]
  },
  {
   "cell_type": "code",
   "execution_count": 3,
   "metadata": {
    "colab": {
     "base_uri": "https://localhost:8080/",
     "height": 208
    },
    "colab_type": "code",
    "id": "tP7oqUdkk0gY",
    "outputId": "670e0f1e-bf47-4063-e6cd-bfcde23a35a6"
   },
   "outputs": [
    {
     "name": "stdout",
     "output_type": "stream",
     "text": [
      "--2019-11-02 12:52:18--  https://raw.githubusercontent.com/jbrownlee/Datasets/master/daily-min-temperatures.csv\n",
      "Resolving raw.githubusercontent.com (raw.githubusercontent.com)... 151.101.0.133, 151.101.64.133, 151.101.128.133, ...\n",
      "Connecting to raw.githubusercontent.com (raw.githubusercontent.com)|151.101.0.133|:443... connected.\n",
      "HTTP request sent, awaiting response... 200 OK\n",
      "Length: 67921 (66K) [text/plain]\n",
      "Saving to: ‘/tmp/daily-min-temperatures.csv’\n",
      "\n",
      "\r",
      "          /tmp/dail   0%[                    ]       0  --.-KB/s               \r",
      "/tmp/daily-min-temp 100%[===================>]  66.33K  --.-KB/s    in 0.01s   \n",
      "\n",
      "2019-11-02 12:52:18 (5.83 MB/s) - ‘/tmp/daily-min-temperatures.csv’ saved [67921/67921]\n",
      "\n"
     ]
    }
   ],
   "source": [
    "!wget --no-check-certificate \\\n",
    "    https://raw.githubusercontent.com/jbrownlee/Datasets/master/daily-min-temperatures.csv \\\n",
    "    -O /tmp/daily-min-temperatures.csv"
   ]
  },
  {
   "cell_type": "code",
   "execution_count": 4,
   "metadata": {
    "colab": {
     "base_uri": "https://localhost:8080/",
     "height": 388
    },
    "colab_type": "code",
    "id": "NcG9r1eClbTh",
    "outputId": "2a20d29b-7975-42a4-80e1-7716e696c2c8"
   },
   "outputs": [
    {
     "data": {
      "image/png": "[encoded data removed]",
      "text/plain": [
       "<Figure size 720x432 with 1 Axes>"
      ]
     },
     "metadata": {
      "tags": []
     },
     "output_type": "display_data"
    }
   ],
   "source": [
    "import csv\n",
    "time_step = []\n",
    "temps = []\n",
    "\n",
    "with open('/tmp/daily-min-temperatures.csv') as csvfile:\n",
    "  reader = csv.reader(csvfile, delimiter=',')\n",
    "  next(reader)\n",
    "  step=0\n",
    "  for row in reader:\n",
    "    temps.append(float(row[1]))\n",
    "    time_step.append(step)\n",
    "    step = step + 1\n",
    "\n",
    "series = np.array(temps)\n",
    "time = np.array(time_step)\n",
    "plt.figure(figsize=(10, 6))\n",
    "plot_series(time, series)"
   ]
  },
  {
   "cell_type": "code",
   "execution_count": 0,
   "metadata": {
    "colab": {},
    "colab_type": "code",
    "id": "L92YRw_IpCFG"
   },
   "outputs": [],
   "source": [
    "split_time = 2500\n",
    "time_train = time[:split_time]\n",
    "x_train = series[:split_time]\n",
    "time_valid = time[split_time:]\n",
    "x_valid = series[split_time:]\n",
    "\n",
    "window_size = 30\n",
    "batch_size = 32\n",
    "shuffle_buffer_size = 1000\n",
    "\n"
   ]
  },
  {
   "cell_type": "code",
   "execution_count": 0,
   "metadata": {
    "colab": {},
    "colab_type": "code",
    "id": "lJwUUZscnG38"
   },
   "outputs": [],
   "source": [
    "def windowed_dataset(series, window_size, batch_size, shuffle_buffer):\n",
    "    series = tf.expand_dims(series, axis=-1)\n",
    "    ds = tf.data.Dataset.from_tensor_slices(series)\n",
    "    ds = ds.window(window_size + 1, shift=1, drop_remainder=True)\n",
    "    ds = ds.flat_map(lambda w: w.batch(window_size + 1))\n",
    "    ds = ds.shuffle(shuffle_buffer)\n",
    "    ds = ds.map(lambda w: (w[:-1], w[1:]))\n",
    "    return ds.batch(batch_size).prefetch(1)"
   ]
  },
  {
   "cell_type": "code",
   "execution_count": 0,
   "metadata": {
    "colab": {},
    "colab_type": "code",
    "id": "4XwGrf-A_wF0"
   },
   "outputs": [],
   "source": [
    "def model_forecast(model, series, window_size):\n",
    "    ds = tf.data.Dataset.from_tensor_slices(series)\n",
    "    ds = ds.window(window_size, shift=1, drop_remainder=True)\n",
    "    ds = ds.flat_map(lambda w: w.batch(window_size))\n",
    "    ds = ds.batch(32).prefetch(1)\n",
    "    forecast = model.predict(ds)\n",
    "    return forecast"
   ]
  },
  {
   "cell_type": "code",
   "execution_count": 8,
   "metadata": {
    "colab": {
     "base_uri": "https://localhost:8080/",
     "height": 1000
    },
    "colab_type": "code",
    "id": "AclfYY3Mn6Ph",
    "outputId": "7588917a-958c-448b-9d6f-e00d48db09c7"
   },
   "outputs": [
    {
     "name": "stdout",
     "output_type": "stream",
     "text": [
      "<PrefetchDataset shapes: ((None, None, 1), (None, None, 1)), types: (tf.float64, tf.float64)>\n",
      "(2500,)\n",
      "Epoch 1/100\n",
      "10/10 [==============================] - 8s 842ms/step - loss: 31.1549 - mae: 31.6551\n",
      "Epoch 2/100\n",
      "10/10 [==============================] - 4s 450ms/step - loss: 30.5753 - mae: 31.0783\n",
      "Epoch 3/100\n",
      "10/10 [==============================] - 4s 448ms/step - loss: 29.7469 - mae: 30.1792\n",
      "Epoch 4/100\n",
      "10/10 [==============================] - 4s 448ms/step - loss: 28.5816 - mae: 29.0582\n",
      "Epoch 5/100\n",
      "10/10 [==============================] - 5s 451ms/step - loss: 27.1349 - mae: 27.6970\n",
      "Epoch 6/100\n",
      "10/10 [==============================] - 5s 450ms/step - loss: 25.5287 - mae: 25.9975\n",
      "Epoch 7/100\n",
      "10/10 [==============================] - 5s 454ms/step - loss: 23.3412 - mae: 23.8407\n",
      "Epoch 8/100\n",
      "10/10 [==============================] - 4s 450ms/step - loss: 20.6980 - mae: 21.1120\n",
      "Epoch 9/100\n",
      "10/10 [==============================] - 5s 451ms/step - loss: 17.4437 - mae: 17.8083\n",
      "Epoch 10/100\n",
      "10/10 [==============================] - 5s 450ms/step - loss: 13.7512 - mae: 14.1192\n",
      "Epoch 11/100\n",
      "10/10 [==============================] - 4s 444ms/step - loss: 10.3053 - mae: 10.6376\n",
      "Epoch 12/100\n",
      "10/10 [==============================] - 4s 447ms/step - loss: 7.6534 - mae: 8.0748\n",
      "Epoch 13/100\n",
      "10/10 [==============================] - 5s 465ms/step - loss: 6.3056 - mae: 6.7677\n",
      "Epoch 14/100\n",
      "10/10 [==============================] - 5s 456ms/step - loss: 5.7424 - mae: 6.1923\n",
      "Epoch 15/100\n",
      "10/10 [==============================] - 4s 445ms/step - loss: 5.3617 - mae: 5.8193\n",
      "Epoch 16/100\n",
      "10/10 [==============================] - 4s 447ms/step - loss: 4.9649 - mae: 5.4211\n",
      "Epoch 17/100\n",
      "10/10 [==============================] - 4s 448ms/step - loss: 4.5722 - mae: 5.0347\n",
      "Epoch 18/100\n",
      "10/10 [==============================] - 4s 448ms/step - loss: 4.2446 - mae: 4.7072\n",
      "Epoch 19/100\n",
      "10/10 [==============================] - 5s 450ms/step - loss: 3.9757 - mae: 4.4370\n",
      "Epoch 20/100\n",
      "10/10 [==============================] - 5s 450ms/step - loss: 3.7648 - mae: 4.2190\n",
      "Epoch 21/100\n",
      "10/10 [==============================] - 4s 448ms/step - loss: 3.5954 - mae: 4.0531\n",
      "Epoch 22/100\n",
      "10/10 [==============================] - 4s 447ms/step - loss: 3.4795 - mae: 3.9356\n",
      "Epoch 23/100\n",
      "10/10 [==============================] - 4s 444ms/step - loss: 3.3746 - mae: 3.8415\n",
      "Epoch 24/100\n",
      "10/10 [==============================] - 5s 451ms/step - loss: 3.3009 - mae: 3.7655\n",
      "Epoch 25/100\n",
      "10/10 [==============================] - 4s 435ms/step - loss: 3.2372 - mae: 3.6977\n",
      "Epoch 26/100\n",
      "10/10 [==============================] - 4s 450ms/step - loss: 3.1713 - mae: 3.6339\n",
      "Epoch 27/100\n",
      "10/10 [==============================] - 4s 442ms/step - loss: 3.1150 - mae: 3.5704\n",
      "Epoch 28/100\n",
      "10/10 [==============================] - 4s 447ms/step - loss: 3.0381 - mae: 3.5040\n",
      "Epoch 29/100\n",
      "10/10 [==============================] - 5s 451ms/step - loss: 2.9743 - mae: 3.4380\n",
      "Epoch 30/100\n",
      "10/10 [==============================] - 4s 444ms/step - loss: 2.9115 - mae: 3.3710\n",
      "Epoch 31/100\n",
      "10/10 [==============================] - 4s 444ms/step - loss: 2.8481 - mae: 3.3076\n",
      "Epoch 32/100\n",
      "10/10 [==============================] - 4s 444ms/step - loss: 2.7903 - mae: 3.2493\n",
      "Epoch 33/100\n",
      "10/10 [==============================] - 4s 445ms/step - loss: 2.7308 - mae: 3.1916\n",
      "Epoch 34/100\n",
      "10/10 [==============================] - 4s 450ms/step - loss: 2.6765 - mae: 3.1348\n",
      "Epoch 35/100\n",
      "10/10 [==============================] - 4s 446ms/step - loss: 2.6279 - mae: 3.0869\n",
      "Epoch 36/100\n",
      "10/10 [==============================] - 4s 447ms/step - loss: 2.5779 - mae: 3.0360\n",
      "Epoch 37/100\n",
      "10/10 [==============================] - 4s 441ms/step - loss: 2.5291 - mae: 2.9877\n",
      "Epoch 38/100\n",
      "10/10 [==============================] - 4s 444ms/step - loss: 2.4822 - mae: 2.9408\n",
      "Epoch 39/100\n",
      "10/10 [==============================] - 4s 445ms/step - loss: 2.4446 - mae: 2.8970\n",
      "Epoch 40/100\n",
      "10/10 [==============================] - 4s 443ms/step - loss: 2.3994 - mae: 2.8538\n",
      "Epoch 41/100\n",
      "10/10 [==============================] - 4s 445ms/step - loss: 2.3590 - mae: 2.8118\n",
      "Epoch 42/100\n",
      "10/10 [==============================] - 4s 441ms/step - loss: 2.3189 - mae: 2.7700\n",
      "Epoch 43/100\n",
      "10/10 [==============================] - 4s 443ms/step - loss: 2.2793 - mae: 2.7302\n",
      "Epoch 44/100\n",
      "10/10 [==============================] - 4s 447ms/step - loss: 2.2343 - mae: 2.6897\n",
      "Epoch 45/100\n",
      "10/10 [==============================] - 4s 444ms/step - loss: 2.2012 - mae: 2.6534\n",
      "Epoch 46/100\n",
      "10/10 [==============================] - 4s 438ms/step - loss: 2.1663 - mae: 2.6186\n",
      "Epoch 47/100\n",
      "10/10 [==============================] - 4s 443ms/step - loss: 2.1309 - mae: 2.5873\n",
      "Epoch 48/100\n",
      "10/10 [==============================] - 4s 446ms/step - loss: 2.1043 - mae: 2.5580\n",
      "Epoch 49/100\n",
      "10/10 [==============================] - 4s 438ms/step - loss: 2.0843 - mae: 2.5342\n",
      "Epoch 50/100\n",
      "10/10 [==============================] - 4s 444ms/step - loss: 2.0535 - mae: 2.5051\n",
      "Epoch 51/100\n",
      "10/10 [==============================] - 4s 446ms/step - loss: 2.0280 - mae: 2.4808\n",
      "Epoch 52/100\n",
      "10/10 [==============================] - 4s 449ms/step - loss: 2.0094 - mae: 2.4607\n",
      "Epoch 53/100\n",
      "10/10 [==============================] - 4s 446ms/step - loss: 1.9883 - mae: 2.4382\n",
      "Epoch 54/100\n",
      "10/10 [==============================] - 4s 444ms/step - loss: 1.9709 - mae: 2.4230\n",
      "Epoch 55/100\n",
      "10/10 [==============================] - 4s 445ms/step - loss: 1.9475 - mae: 2.3984\n",
      "Epoch 56/100\n",
      "10/10 [==============================] - 4s 440ms/step - loss: 1.9256 - mae: 2.3799\n",
      "Epoch 57/100\n",
      "10/10 [==============================] - 5s 456ms/step - loss: 1.9069 - mae: 2.3570\n",
      "Epoch 58/100\n",
      "10/10 [==============================] - 4s 442ms/step - loss: 1.8953 - mae: 2.3411\n",
      "Epoch 59/100\n",
      "10/10 [==============================] - 4s 438ms/step - loss: 1.9059 - mae: 2.3602\n",
      "Epoch 60/100\n",
      "10/10 [==============================] - 4s 442ms/step - loss: 2.2724 - mae: 2.7229\n",
      "Epoch 61/100\n",
      "10/10 [==============================] - 4s 440ms/step - loss: 2.7286 - mae: 3.1922\n",
      "Epoch 62/100\n",
      "10/10 [==============================] - 4s 442ms/step - loss: 3.0617 - mae: 3.5179\n",
      "Epoch 63/100\n",
      "10/10 [==============================] - 4s 440ms/step - loss: 3.4691 - mae: 3.9719\n",
      "Epoch 64/100\n",
      "10/10 [==============================] - 4s 446ms/step - loss: 3.7640 - mae: 4.2863\n",
      "Epoch 65/100\n",
      "10/10 [==============================] - 4s 441ms/step - loss: 4.0160 - mae: 4.5418\n",
      "Epoch 66/100\n",
      "10/10 [==============================] - 4s 446ms/step - loss: 4.3318 - mae: 4.8020\n",
      "Epoch 67/100\n",
      "10/10 [==============================] - 4s 445ms/step - loss: 4.6336 - mae: 5.0798\n",
      "Epoch 68/100\n",
      "10/10 [==============================] - 4s 439ms/step - loss: 4.9031 - mae: 5.3458\n",
      "Epoch 69/100\n",
      "10/10 [==============================] - 4s 443ms/step - loss: 4.9679 - mae: 5.3402\n",
      "Epoch 70/100\n",
      "10/10 [==============================] - 4s 441ms/step - loss: 9.8020 - mae: 10.0761\n",
      "Epoch 71/100\n",
      "10/10 [==============================] - 4s 445ms/step - loss: 15.1341 - mae: 15.2586\n",
      "Epoch 72/100\n",
      "10/10 [==============================] - 4s 440ms/step - loss: 10.0373 - mae: 10.5684\n",
      "Epoch 73/100\n",
      "10/10 [==============================] - 4s 442ms/step - loss: 8.9350 - mae: 9.3334\n",
      "Epoch 74/100\n",
      "10/10 [==============================] - 4s 446ms/step - loss: 4.6745 - mae: 5.1589\n",
      "Epoch 75/100\n",
      "10/10 [==============================] - 4s 442ms/step - loss: 3.1716 - mae: 3.6088\n",
      "Epoch 76/100\n",
      "10/10 [==============================] - 4s 445ms/step - loss: 2.6229 - mae: 3.0689\n",
      "Epoch 77/100\n",
      "10/10 [==============================] - 4s 444ms/step - loss: 2.2358 - mae: 2.6848\n",
      "Epoch 78/100\n",
      "10/10 [==============================] - 4s 442ms/step - loss: 2.0343 - mae: 2.4878\n",
      "Epoch 79/100\n",
      "10/10 [==============================] - 4s 441ms/step - loss: 1.9689 - mae: 2.4610\n",
      "Epoch 80/100\n",
      "10/10 [==============================] - 4s 440ms/step - loss: 3.0217 - mae: 3.4796\n",
      "Epoch 81/100\n",
      "10/10 [==============================] - 4s 448ms/step - loss: 3.3819 - mae: 3.8851\n",
      "Epoch 82/100\n",
      "10/10 [==============================] - 4s 449ms/step - loss: 4.0004 - mae: 4.5043\n",
      "Epoch 83/100\n",
      "10/10 [==============================] - 5s 456ms/step - loss: 4.5425 - mae: 5.0569\n",
      "Epoch 84/100\n",
      "10/10 [==============================] - 4s 450ms/step - loss: 5.2412 - mae: 5.6949\n",
      "Epoch 85/100\n",
      "10/10 [==============================] - 4s 445ms/step - loss: 5.7551 - mae: 6.0607\n",
      "Epoch 86/100\n",
      "10/10 [==============================] - 4s 443ms/step - loss: 6.1631 - mae: 6.7458\n",
      "Epoch 87/100\n",
      "10/10 [==============================] - 4s 438ms/step - loss: 7.3809 - mae: 7.9111\n",
      "Epoch 88/100\n",
      "10/10 [==============================] - 4s 444ms/step - loss: 15.9252 - mae: 15.8860\n",
      "Epoch 89/100\n",
      "10/10 [==============================] - 4s 439ms/step - loss: 21.8504 - mae: 21.6061\n",
      "Epoch 90/100\n",
      "10/10 [==============================] - 4s 442ms/step - loss: 24.1922 - mae: 26.0784\n",
      "Epoch 91/100\n",
      "10/10 [==============================] - 4s 440ms/step - loss: 35.3341 - mae: 34.5502\n",
      "Epoch 92/100\n",
      "10/10 [==============================] - 4s 445ms/step - loss: 82.5689 - mae: 87.2925\n",
      "Epoch 93/100\n",
      "10/10 [==============================] - 4s 438ms/step - loss: 61.4195 - mae: 63.7195\n",
      "Epoch 94/100\n",
      "10/10 [==============================] - 4s 445ms/step - loss: 118.3365 - mae: 115.0382\n",
      "Epoch 95/100\n",
      "10/10 [==============================] - 4s 443ms/step - loss: 47.9522 - mae: 50.0280\n",
      "Epoch 96/100\n",
      "10/10 [==============================] - 4s 440ms/step - loss: 163.0600 - mae: 156.8113\n",
      "Epoch 97/100\n",
      "10/10 [==============================] - 4s 445ms/step - loss: 268.2099 - mae: 261.3460\n",
      "Epoch 98/100\n",
      "10/10 [==============================] - 4s 438ms/step - loss: 158.4722 - mae: 166.8910\n",
      "Epoch 99/100\n",
      "10/10 [==============================] - 4s 442ms/step - loss: 207.3074 - mae: 204.5218\n",
      "Epoch 100/100\n",
      "10/10 [==============================] - 4s 445ms/step - loss: 111.0854 - mae: 108.7935\n"
     ]
    }
   ],
   "source": [
    "tf.keras.backend.clear_session()\n",
    "tf.random.set_seed(51)\n",
    "np.random.seed(51)\n",
    "window_size = 64\n",
    "batch_size = 256\n",
    "train_set = windowed_dataset(x_train, window_size, batch_size, shuffle_buffer_size)\n",
    "print(train_set)\n",
    "print(x_train.shape)\n",
    "\n",
    "model = tf.keras.models.Sequential([\n",
    "  tf.keras.layers.Conv1D(filters=32, kernel_size=5,\n",
    "                      strides=1, padding=\"causal\",\n",
    "                      activation=\"relu\",\n",
    "                      input_shape=[None, 1]),\n",
    "  tf.keras.layers.LSTM(64, return_sequences=True),\n",
    "  tf.keras.layers.LSTM(64, return_sequences=True),\n",
    "  tf.keras.layers.Dense(30, activation=\"relu\"),\n",
    "  tf.keras.layers.Dense(10, activation=\"relu\"),\n",
    "  tf.keras.layers.Dense(1),\n",
    "  tf.keras.layers.Lambda(lambda x: x * 400)\n",
    "])\n",
    "\n",
    "lr_schedule = tf.keras.callbacks.LearningRateScheduler(\n",
    "    lambda epoch: 1e-8 * 10**(epoch / 20))\n",
    "optimizer = tf.keras.optimizers.SGD(lr=1e-8, momentum=0.9)\n",
    "model.compile(loss=tf.keras.losses.Huber(),\n",
    "              optimizer=optimizer,\n",
    "              metrics=[\"mae\"])\n",
    "history = model.fit(train_set, epochs=100, callbacks=[lr_schedule])\n",
    "\n",
    "\n"
   ]
  },
  {
   "cell_type": "code",
   "execution_count": 9,
   "metadata": {
    "colab": {
     "base_uri": "https://localhost:8080/",
     "height": 291
    },
    "colab_type": "code",
    "id": "vVcKmg7Q_7rD",
    "outputId": "6dbd2c0b-432f-4c99-ea89-f48c4ffe82d0"
   },
   "outputs": [
    {
     "data": {
      "text/plain": [
       "[1e-08, 0.0001, 0, 60]"
      ]
     },
     "execution_count": 9,
     "metadata": {
      "tags": []
     },
     "output_type": "execute_result"
    },
    {
     "data": {
      "image/png": "[encoded data removed]",
      "text/plain": [
       "<Figure size 432x288 with 1 Axes>"
      ]
     },
     "metadata": {
      "tags": []
     },
     "output_type": "display_data"
    }
   ],
   "source": [
    "plt.semilogx(history.history[\"lr\"], history.history[\"loss\"])\n",
    "plt.axis([1e-8, 1e-4, 0, 60])"
   ]
  },
  {
   "cell_type": "code",
   "execution_count": 10,
   "metadata": {
    "colab": {
     "base_uri": "https://localhost:8080/",
     "height": 1000
    },
    "colab_type": "code",
    "id": "QsksvkcXAAgq",
    "outputId": "454af285-0aac-448b-ba0f-eb7835f544a0"
   },
   "outputs": [
    {
     "name": "stdout",
     "output_type": "stream",
     "text": [
      "Epoch 1/150\n",
      "25/25 [==============================] - 8s 308ms/step - loss: 9.9624 - mae: 10.5789\n",
      "Epoch 2/150\n",
      "25/25 [==============================] - 4s 158ms/step - loss: 2.5933 - mae: 3.0493\n",
      "Epoch 3/150\n",
      "25/25 [==============================] - 4s 158ms/step - loss: 1.9328 - mae: 2.3879\n",
      "Epoch 4/150\n",
      "25/25 [==============================] - 4s 158ms/step - loss: 1.8621 - mae: 2.3160\n",
      "Epoch 5/150\n",
      "25/25 [==============================] - 4s 160ms/step - loss: 1.8200 - mae: 2.2715\n",
      "Epoch 6/150\n",
      "25/25 [==============================] - 4s 158ms/step - loss: 1.7918 - mae: 2.2419\n",
      "Epoch 7/150\n",
      "25/25 [==============================] - 4s 158ms/step - loss: 1.7631 - mae: 2.2129\n",
      "Epoch 8/150\n",
      "25/25 [==============================] - 4s 160ms/step - loss: 1.7460 - mae: 2.1939\n",
      "Epoch 9/150\n",
      "25/25 [==============================] - 4s 160ms/step - loss: 1.7219 - mae: 2.1688\n",
      "Epoch 10/150\n",
      "25/25 [==============================] - 4s 161ms/step - loss: 1.7014 - mae: 2.1483\n",
      "Epoch 11/150\n",
      "25/25 [==============================] - 4s 159ms/step - loss: 1.6838 - mae: 2.1305\n",
      "Epoch 12/150\n",
      "25/25 [==============================] - 4s 159ms/step - loss: 1.6662 - mae: 2.1134\n",
      "Epoch 13/150\n",
      "25/25 [==============================] - 4s 160ms/step - loss: 1.6559 - mae: 2.1020\n",
      "Epoch 14/150\n",
      "25/25 [==============================] - 4s 160ms/step - loss: 1.6440 - mae: 2.0905\n",
      "Epoch 15/150\n",
      "25/25 [==============================] - 4s 160ms/step - loss: 1.6326 - mae: 2.0777\n",
      "Epoch 16/150\n",
      "25/25 [==============================] - 4s 158ms/step - loss: 1.6254 - mae: 2.0698\n",
      "Epoch 17/150\n",
      "25/25 [==============================] - 4s 159ms/step - loss: 1.6170 - mae: 2.0609\n",
      "Epoch 18/150\n",
      "25/25 [==============================] - 4s 158ms/step - loss: 1.6078 - mae: 2.0499\n",
      "Epoch 19/150\n",
      "25/25 [==============================] - 4s 160ms/step - loss: 1.6057 - mae: 2.0479\n",
      "Epoch 20/150\n",
      "25/25 [==============================] - 4s 158ms/step - loss: 1.5959 - mae: 2.0381\n",
      "Epoch 21/150\n",
      "25/25 [==============================] - 4s 159ms/step - loss: 1.5887 - mae: 2.0310\n",
      "Epoch 22/150\n",
      "25/25 [==============================] - 4s 161ms/step - loss: 1.5871 - mae: 2.0295\n",
      "Epoch 23/150\n",
      "25/25 [==============================] - 4s 160ms/step - loss: 1.5821 - mae: 2.0245\n",
      "Epoch 24/150\n",
      "25/25 [==============================] - 4s 161ms/step - loss: 1.5777 - mae: 2.0204\n",
      "Epoch 25/150\n",
      "25/25 [==============================] - 4s 160ms/step - loss: 1.5784 - mae: 2.0192\n",
      "Epoch 26/150\n",
      "25/25 [==============================] - 4s 159ms/step - loss: 1.5675 - mae: 2.0094\n",
      "Epoch 27/150\n",
      "25/25 [==============================] - 4s 165ms/step - loss: 1.5660 - mae: 2.0062\n",
      "Epoch 28/150\n",
      "25/25 [==============================] - 4s 160ms/step - loss: 1.5618 - mae: 2.0037\n",
      "Epoch 29/150\n",
      "25/25 [==============================] - 4s 160ms/step - loss: 1.5587 - mae: 1.9994\n",
      "Epoch 30/150\n",
      "25/25 [==============================] - 4s 163ms/step - loss: 1.5572 - mae: 1.9976\n",
      "Epoch 31/150\n",
      "25/25 [==============================] - 4s 157ms/step - loss: 1.5547 - mae: 1.9960\n",
      "Epoch 32/150\n",
      "25/25 [==============================] - 4s 160ms/step - loss: 1.5534 - mae: 1.9950\n",
      "Epoch 33/150\n",
      "25/25 [==============================] - 4s 158ms/step - loss: 1.5506 - mae: 1.9926\n",
      "Epoch 34/150\n",
      "25/25 [==============================] - 4s 159ms/step - loss: 1.5485 - mae: 1.9888\n",
      "Epoch 35/150\n",
      "25/25 [==============================] - 4s 161ms/step - loss: 1.5520 - mae: 1.9935\n",
      "Epoch 36/150\n",
      "25/25 [==============================] - 4s 160ms/step - loss: 1.5489 - mae: 1.9900\n",
      "Epoch 37/150\n",
      "25/25 [==============================] - 4s 162ms/step - loss: 1.5434 - mae: 1.9840\n",
      "Epoch 38/150\n",
      "25/25 [==============================] - 4s 161ms/step - loss: 1.5417 - mae: 1.9830\n",
      "Epoch 39/150\n",
      "25/25 [==============================] - 4s 159ms/step - loss: 1.5394 - mae: 1.9812\n",
      "Epoch 40/150\n",
      "25/25 [==============================] - 4s 160ms/step - loss: 1.5409 - mae: 1.9820\n",
      "Epoch 41/150\n",
      "25/25 [==============================] - 4s 159ms/step - loss: 1.5405 - mae: 1.9820\n",
      "Epoch 42/150\n",
      "25/25 [==============================] - 4s 158ms/step - loss: 1.5362 - mae: 1.9768\n",
      "Epoch 43/150\n",
      "25/25 [==============================] - 4s 161ms/step - loss: 1.5349 - mae: 1.9770\n",
      "Epoch 44/150\n",
      "25/25 [==============================] - 4s 160ms/step - loss: 1.5357 - mae: 1.9767\n",
      "Epoch 45/150\n",
      "25/25 [==============================] - 4s 161ms/step - loss: 1.5357 - mae: 1.9784\n",
      "Epoch 46/150\n",
      "25/25 [==============================] - 4s 159ms/step - loss: 1.5315 - mae: 1.9721\n",
      "Epoch 47/150\n",
      "25/25 [==============================] - 4s 160ms/step - loss: 1.5334 - mae: 1.9754\n",
      "Epoch 48/150\n",
      "25/25 [==============================] - 4s 159ms/step - loss: 1.5286 - mae: 1.9701\n",
      "Epoch 49/150\n",
      "25/25 [==============================] - 4s 160ms/step - loss: 1.5309 - mae: 1.9728\n",
      "Epoch 50/150\n",
      "25/25 [==============================] - 4s 159ms/step - loss: 1.5312 - mae: 1.9722\n",
      "Epoch 51/150\n",
      "25/25 [==============================] - 4s 157ms/step - loss: 1.5273 - mae: 1.9682\n",
      "Epoch 52/150\n",
      "25/25 [==============================] - 4s 160ms/step - loss: 1.5296 - mae: 1.9709\n",
      "Epoch 53/150\n",
      "25/25 [==============================] - 4s 161ms/step - loss: 1.5282 - mae: 1.9696\n",
      "Epoch 54/150\n",
      "25/25 [==============================] - 4s 158ms/step - loss: 1.5288 - mae: 1.9710\n",
      "Epoch 55/150\n",
      "25/25 [==============================] - 4s 159ms/step - loss: 1.5234 - mae: 1.9662\n",
      "Epoch 56/150\n",
      "25/25 [==============================] - 4s 160ms/step - loss: 1.5241 - mae: 1.9660\n",
      "Epoch 57/150\n",
      "25/25 [==============================] - 4s 162ms/step - loss: 1.5219 - mae: 1.9636\n",
      "Epoch 58/150\n",
      "25/25 [==============================] - 4s 163ms/step - loss: 1.5242 - mae: 1.9644\n",
      "Epoch 59/150\n",
      "25/25 [==============================] - 4s 160ms/step - loss: 1.5345 - mae: 1.9768\n",
      "Epoch 60/150\n",
      "25/25 [==============================] - 4s 158ms/step - loss: 1.5269 - mae: 1.9677\n",
      "Epoch 61/150\n",
      "25/25 [==============================] - 4s 160ms/step - loss: 1.5206 - mae: 1.9636\n",
      "Epoch 62/150\n",
      "25/25 [==============================] - 4s 160ms/step - loss: 1.5190 - mae: 1.9604\n",
      "Epoch 63/150\n",
      "25/25 [==============================] - 4s 160ms/step - loss: 1.5192 - mae: 1.9615\n",
      "Epoch 64/150\n",
      "25/25 [==============================] - 4s 161ms/step - loss: 1.5185 - mae: 1.9587\n",
      "Epoch 65/150\n",
      "25/25 [==============================] - 4s 159ms/step - loss: 1.5167 - mae: 1.9590\n",
      "Epoch 66/150\n",
      "25/25 [==============================] - 4s 161ms/step - loss: 1.5182 - mae: 1.9590\n",
      "Epoch 67/150\n",
      "25/25 [==============================] - 4s 159ms/step - loss: 1.5161 - mae: 1.9583\n",
      "Epoch 68/150\n",
      "25/25 [==============================] - 4s 159ms/step - loss: 1.5217 - mae: 1.9643\n",
      "Epoch 69/150\n",
      "25/25 [==============================] - 4s 160ms/step - loss: 1.5161 - mae: 1.9576\n",
      "Epoch 70/150\n",
      "25/25 [==============================] - 4s 160ms/step - loss: 1.5161 - mae: 1.9561\n",
      "Epoch 71/150\n",
      "25/25 [==============================] - 4s 161ms/step - loss: 1.5147 - mae: 1.9560\n",
      "Epoch 72/150\n",
      "25/25 [==============================] - 4s 160ms/step - loss: 1.5134 - mae: 1.9546\n",
      "Epoch 73/150\n",
      "25/25 [==============================] - 4s 160ms/step - loss: 1.5114 - mae: 1.9538\n",
      "Epoch 74/150\n",
      "25/25 [==============================] - 4s 161ms/step - loss: 1.5162 - mae: 1.9571\n",
      "Epoch 75/150\n",
      "25/25 [==============================] - 4s 160ms/step - loss: 1.5098 - mae: 1.9524\n",
      "Epoch 76/150\n",
      "25/25 [==============================] - 4s 161ms/step - loss: 1.5129 - mae: 1.9538\n",
      "Epoch 77/150\n",
      "25/25 [==============================] - 4s 159ms/step - loss: 1.5107 - mae: 1.9524\n",
      "Epoch 78/150\n",
      "25/25 [==============================] - 4s 158ms/step - loss: 1.5103 - mae: 1.9515\n",
      "Epoch 79/150\n",
      "25/25 [==============================] - 4s 162ms/step - loss: 1.5129 - mae: 1.9540\n",
      "Epoch 80/150\n",
      "25/25 [==============================] - 4s 159ms/step - loss: 1.5076 - mae: 1.9484\n",
      "Epoch 81/150\n",
      "25/25 [==============================] - 4s 159ms/step - loss: 1.5090 - mae: 1.9504\n",
      "Epoch 82/150\n",
      "25/25 [==============================] - 4s 160ms/step - loss: 1.5116 - mae: 1.9531\n",
      "Epoch 83/150\n",
      "25/25 [==============================] - 4s 159ms/step - loss: 1.5060 - mae: 1.9467\n",
      "Epoch 84/150\n",
      "25/25 [==============================] - 4s 159ms/step - loss: 1.5054 - mae: 1.9465\n",
      "Epoch 85/150\n",
      "25/25 [==============================] - 4s 157ms/step - loss: 1.5063 - mae: 1.9470\n",
      "Epoch 86/150\n",
      "25/25 [==============================] - 4s 157ms/step - loss: 1.5046 - mae: 1.9453\n",
      "Epoch 87/150\n",
      "25/25 [==============================] - 4s 160ms/step - loss: 1.5033 - mae: 1.9444\n",
      "Epoch 88/150\n",
      "25/25 [==============================] - 4s 159ms/step - loss: 1.5037 - mae: 1.9452\n",
      "Epoch 89/150\n",
      "25/25 [==============================] - 4s 159ms/step - loss: 1.5030 - mae: 1.9432\n",
      "Epoch 90/150\n",
      "25/25 [==============================] - 4s 160ms/step - loss: 1.5012 - mae: 1.9426\n",
      "Epoch 91/150\n",
      "25/25 [==============================] - 4s 158ms/step - loss: 1.5033 - mae: 1.9441\n",
      "Epoch 92/150\n",
      "25/25 [==============================] - 4s 158ms/step - loss: 1.5024 - mae: 1.9430\n",
      "Epoch 93/150\n",
      "25/25 [==============================] - 4s 158ms/step - loss: 1.4997 - mae: 1.9402\n",
      "Epoch 94/150\n",
      "25/25 [==============================] - 4s 159ms/step - loss: 1.4986 - mae: 1.9391\n",
      "Epoch 95/150\n",
      "25/25 [==============================] - 4s 159ms/step - loss: 1.4972 - mae: 1.9375\n",
      "Epoch 96/150\n",
      "25/25 [==============================] - 4s 160ms/step - loss: 1.5060 - mae: 1.9462\n",
      "Epoch 97/150\n",
      "25/25 [==============================] - 4s 161ms/step - loss: 1.4984 - mae: 1.9381\n",
      "Epoch 98/150\n",
      "25/25 [==============================] - 4s 161ms/step - loss: 1.4984 - mae: 1.9391\n",
      "Epoch 99/150\n",
      "25/25 [==============================] - 4s 156ms/step - loss: 1.4981 - mae: 1.9388\n",
      "Epoch 100/150\n",
      "25/25 [==============================] - 4s 159ms/step - loss: 1.4943 - mae: 1.9354\n",
      "Epoch 101/150\n",
      "25/25 [==============================] - 4s 158ms/step - loss: 1.4950 - mae: 1.9350\n",
      "Epoch 102/150\n",
      "25/25 [==============================] - 4s 157ms/step - loss: 1.4953 - mae: 1.9355\n",
      "Epoch 103/150\n",
      "25/25 [==============================] - 4s 160ms/step - loss: 1.4922 - mae: 1.9319\n",
      "Epoch 104/150\n",
      "25/25 [==============================] - 4s 162ms/step - loss: 1.4918 - mae: 1.9317\n",
      "Epoch 105/150\n",
      "25/25 [==============================] - 4s 160ms/step - loss: 1.4931 - mae: 1.9332\n",
      "Epoch 106/150\n",
      "25/25 [==============================] - 4s 160ms/step - loss: 1.4915 - mae: 1.9315\n",
      "Epoch 107/150\n",
      "25/25 [==============================] - 4s 158ms/step - loss: 1.4911 - mae: 1.9317\n",
      "Epoch 108/150\n",
      "25/25 [==============================] - 4s 159ms/step - loss: 1.4930 - mae: 1.9331\n",
      "Epoch 109/150\n",
      "25/25 [==============================] - 4s 158ms/step - loss: 1.4897 - mae: 1.9312\n",
      "Epoch 110/150\n",
      "25/25 [==============================] - 4s 158ms/step - loss: 1.4907 - mae: 1.9308\n",
      "Epoch 111/150\n",
      "25/25 [==============================] - 4s 159ms/step - loss: 1.4909 - mae: 1.9310\n",
      "Epoch 112/150\n",
      "25/25 [==============================] - 4s 157ms/step - loss: 1.4903 - mae: 1.9299\n",
      "Epoch 113/150\n",
      "25/25 [==============================] - 4s 159ms/step - loss: 1.4879 - mae: 1.9281\n",
      "Epoch 114/150\n",
      "25/25 [==============================] - 4s 157ms/step - loss: 1.4869 - mae: 1.9276\n",
      "Epoch 115/150\n",
      "25/25 [==============================] - 4s 158ms/step - loss: 1.4876 - mae: 1.9273\n",
      "Epoch 116/150\n",
      "25/25 [==============================] - 4s 157ms/step - loss: 1.4886 - mae: 1.9274\n",
      "Epoch 117/150\n",
      "25/25 [==============================] - 4s 157ms/step - loss: 1.4886 - mae: 1.9292\n",
      "Epoch 118/150\n",
      "25/25 [==============================] - 4s 160ms/step - loss: 1.4867 - mae: 1.9285\n",
      "Epoch 119/150\n",
      "25/25 [==============================] - 4s 159ms/step - loss: 1.4871 - mae: 1.9271\n",
      "Epoch 120/150\n",
      "25/25 [==============================] - 4s 158ms/step - loss: 1.4861 - mae: 1.9260\n",
      "Epoch 121/150\n",
      "25/25 [==============================] - 4s 160ms/step - loss: 1.4871 - mae: 1.9264\n",
      "Epoch 122/150\n",
      "25/25 [==============================] - 4s 158ms/step - loss: 1.4904 - mae: 1.9311\n",
      "Epoch 123/150\n",
      "25/25 [==============================] - 4s 160ms/step - loss: 1.4886 - mae: 1.9284\n",
      "Epoch 124/150\n",
      "25/25 [==============================] - 4s 161ms/step - loss: 1.4915 - mae: 1.9321\n",
      "Epoch 125/150\n",
      "25/25 [==============================] - 4s 160ms/step - loss: 1.4867 - mae: 1.9260\n",
      "Epoch 126/150\n",
      "25/25 [==============================] - 4s 159ms/step - loss: 1.4862 - mae: 1.9264\n",
      "Epoch 127/150\n",
      "25/25 [==============================] - 4s 159ms/step - loss: 1.4861 - mae: 1.9255\n",
      "Epoch 128/150\n",
      "25/25 [==============================] - 4s 158ms/step - loss: 1.4846 - mae: 1.9245\n",
      "Epoch 129/150\n",
      "25/25 [==============================] - 4s 159ms/step - loss: 1.4838 - mae: 1.9235\n",
      "Epoch 130/150\n",
      "25/25 [==============================] - 4s 159ms/step - loss: 1.4820 - mae: 1.9234\n",
      "Epoch 131/150\n",
      "25/25 [==============================] - 4s 159ms/step - loss: 1.4868 - mae: 1.9278\n",
      "Epoch 132/150\n",
      "25/25 [==============================] - 4s 159ms/step - loss: 1.4829 - mae: 1.9230\n",
      "Epoch 133/150\n",
      "25/25 [==============================] - 4s 161ms/step - loss: 1.4916 - mae: 1.9312\n",
      "Epoch 134/150\n",
      "25/25 [==============================] - 4s 161ms/step - loss: 1.4883 - mae: 1.9279\n",
      "Epoch 135/150\n",
      "25/25 [==============================] - 4s 162ms/step - loss: 1.4889 - mae: 1.9290\n",
      "Epoch 136/150\n",
      "25/25 [==============================] - 4s 161ms/step - loss: 1.4811 - mae: 1.9216\n",
      "Epoch 137/150\n",
      "25/25 [==============================] - 4s 162ms/step - loss: 1.4825 - mae: 1.9222\n",
      "Epoch 138/150\n",
      "25/25 [==============================] - 4s 158ms/step - loss: 1.4855 - mae: 1.9253\n",
      "Epoch 139/150\n",
      "25/25 [==============================] - 4s 158ms/step - loss: 1.4836 - mae: 1.9229\n",
      "Epoch 140/150\n",
      "25/25 [==============================] - 4s 159ms/step - loss: 1.4831 - mae: 1.9212\n",
      "Epoch 141/150\n",
      "25/25 [==============================] - 4s 160ms/step - loss: 1.4835 - mae: 1.9227\n",
      "Epoch 142/150\n",
      "25/25 [==============================] - 4s 160ms/step - loss: 1.4800 - mae: 1.9203\n",
      "Epoch 143/150\n",
      "25/25 [==============================] - 4s 161ms/step - loss: 1.4789 - mae: 1.9195\n",
      "Epoch 144/150\n",
      "25/25 [==============================] - 4s 158ms/step - loss: 1.4831 - mae: 1.9230\n",
      "Epoch 145/150\n",
      "25/25 [==============================] - 4s 162ms/step - loss: 1.4839 - mae: 1.9234\n",
      "Epoch 146/150\n",
      "25/25 [==============================] - 4s 161ms/step - loss: 1.4791 - mae: 1.9188\n",
      "Epoch 147/150\n",
      "25/25 [==============================] - 4s 159ms/step - loss: 1.4836 - mae: 1.9231\n",
      "Epoch 148/150\n",
      "25/25 [==============================] - 4s 160ms/step - loss: 1.4799 - mae: 1.9193\n",
      "Epoch 149/150\n",
      "25/25 [==============================] - 4s 160ms/step - loss: 1.4791 - mae: 1.9187\n",
      "Epoch 150/150\n",
      "25/25 [==============================] - 4s 160ms/step - loss: 1.4790 - mae: 1.9193\n"
     ]
    }
   ],
   "source": [
    "tf.keras.backend.clear_session()\n",
    "tf.random.set_seed(51)\n",
    "np.random.seed(51)\n",
    "train_set = windowed_dataset(x_train, window_size=60, batch_size=100, shuffle_buffer=shuffle_buffer_size)\n",
    "model = tf.keras.models.Sequential([\n",
    "  tf.keras.layers.Conv1D(filters=60, kernel_size=5,\n",
    "                      strides=1, padding=\"causal\",\n",
    "                      activation=\"relu\",\n",
    "                      input_shape=[None, 1]),\n",
    "  tf.keras.layers.LSTM(60, return_sequences=True),\n",
    "  tf.keras.layers.LSTM(60, return_sequences=True),\n",
    "  tf.keras.layers.Dense(30, activation=\"relu\"),\n",
    "  tf.keras.layers.Dense(10, activation=\"relu\"),\n",
    "  tf.keras.layers.Dense(1),\n",
    "  tf.keras.layers.Lambda(lambda x: x * 400)\n",
    "])\n",
    "\n",
    "\n",
    "optimizer = tf.keras.optimizers.SGD(lr=1e-5, momentum=0.9)\n",
    "model.compile(loss=tf.keras.losses.Huber(),\n",
    "              optimizer=optimizer,\n",
    "              metrics=[\"mae\"])\n",
    "history = model.fit(train_set,epochs=150)"
   ]
  },
  {
   "cell_type": "code",
   "execution_count": 0,
   "metadata": {
    "colab": {},
    "colab_type": "code",
    "id": "GaC6NNMRp0lb"
   },
   "outputs": [],
   "source": [
    "rnn_forecast = model_forecast(model, series[..., np.newaxis], window_size)\n",
    "rnn_forecast = rnn_forecast[split_time - window_size:-1, -1, 0]"
   ]
  },
  {
   "cell_type": "code",
   "execution_count": 12,
   "metadata": {
    "colab": {
     "base_uri": "https://localhost:8080/",
     "height": 389
    },
    "colab_type": "code",
    "id": "PrktQX3hKYex",
    "outputId": "9aed717a-4720-4c06-db2f-5391344427b4"
   },
   "outputs": [
    {
     "data": {
      "image/png": "[encoded data removed]",
      "text/plain": [
       "<Figure size 720x432 with 1 Axes>"
      ]
     },
     "metadata": {
      "tags": []
     },
     "output_type": "display_data"
    }
   ],
   "source": [
    "plt.figure(figsize=(10, 6))\n",
    "plot_series(time_valid, x_valid)\n",
    "plot_series(time_valid, rnn_forecast)"
   ]
  },
  {
   "cell_type": "code",
   "execution_count": 13,
   "metadata": {
    "colab": {
     "base_uri": "https://localhost:8080/",
     "height": 35
    },
    "colab_type": "code",
    "id": "13XrorC5wQoE",
    "outputId": "61181181-8f30-4f26-f2a5-49914b1a9032"
   },
   "outputs": [
    {
     "data": {
      "text/plain": [
       "1.7813892"
      ]
     },
     "execution_count": 13,
     "metadata": {
      "tags": []
     },
     "output_type": "execute_result"
    }
   ],
   "source": [
    "tf.keras.metrics.mean_absolute_error(x_valid, rnn_forecast).numpy()"
   ]
  },
  {
   "cell_type": "code",
   "execution_count": 14,
   "metadata": {
    "colab": {
     "base_uri": "https://localhost:8080/",
     "height": 35
    },
    "colab_type": "code",
    "id": "AOVzQXxCwkzP",
    "outputId": "e1756855-deb9-4271-c9e7-6aa5edd67739"
   },
   "outputs": [
    {
     "name": "stdout",
     "output_type": "stream",
     "text": [
      "[11.670913 11.052194 12.272629 ... 13.673079 13.805768 15.023526]\n"
     ]
    }
   ],
   "source": [
    "print(rnn_forecast)"
   ]
  }
 ],
 "metadata": {
  "accelerator": "GPU",
  "colab": {
   "collapsed_sections": [],
   "name": "c4w4e3_excercise.ipynb",
   "provenance": []
  },
  "kernelspec": {
   "display_name": "Python 3",
   "language": "python",
   "name": "python3"
  },
  "language_info": {
   "codemirror_mode": {
    "name": "ipython",
    "version": 3
   },
   "file_extension": ".py",
   "mimetype": "text/x-python",
   "name": "python",
   "nbconvert_exporter": "python",
   "pygments_lexer": "ipython3",
   "version": "3.7.4"
  }
 },
 "nbformat": 4,
 "nbformat_minor": 1
}
