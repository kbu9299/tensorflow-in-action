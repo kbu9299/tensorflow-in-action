{
 "cells": [
  {
   "cell_type": "code",
   "execution_count": 1,
   "metadata": {
    "colab": {
     "base_uri": "https://localhost:8080/",
     "height": 64
    },
    "colab_type": "code",
    "id": "BOwsuGQQY9OL",
    "outputId": "7db1dca6-4fd1-4f77-9eec-51a9f1160854"
   },
   "outputs": [
    {
     "data": {
      "text/html": [
       "<p style=\"color: red;\">\n",
       "The default version of TensorFlow in Colab will soon switch to TensorFlow 2.x.<br>\n",
       "We recommend you <a href=\"https://www.tensorflow.org/guide/migrate\" target=\"_blank\">upgrade</a> now \n",
       "or ensure your notebook will continue to use TensorFlow 1.x via the <code>%tensorflow_version 1.x</code> magic:\n",
       "<a href=\"https://colab.research.google.com/notebooks/tensorflow_version.ipynb\" target=\"_blank\">more info</a>.</p>\n"
      ],
      "text/plain": [
       "<IPython.core.display.HTML object>"
      ]
     },
     "metadata": {
      "tags": []
     },
     "output_type": "display_data"
    }
   ],
   "source": [
    "from tensorflow.keras.preprocessing.sequence import pad_sequences\n",
    "from tensorflow.keras.layers import Embedding, LSTM, Dense, Dropout, Bidirectional\n",
    "from tensorflow.keras.preprocessing.text import Tokenizer\n",
    "from tensorflow.keras.models import Sequential\n",
    "from tensorflow.keras.optimizers import Adam\n",
    "from tensorflow.keras import regularizers\n",
    "import tensorflow.keras.utils as ku \n",
    "import numpy as np "
   ]
  },
  {
   "cell_type": "code",
   "execution_count": 2,
   "metadata": {
    "colab": {
     "base_uri": "https://localhost:8080/",
     "height": 208
    },
    "colab_type": "code",
    "id": "PRnDnCW-Z7qv",
    "outputId": "6a376316-5f10-42fc-8b02-c807756032c2"
   },
   "outputs": [
    {
     "name": "stdout",
     "output_type": "stream",
     "text": [
      "--2019-10-29 12:06:47--  https://storage.googleapis.com/laurencemoroney-blog.appspot.com/sonnets.txt\n",
      "Resolving storage.googleapis.com (storage.googleapis.com)... 74.125.133.128, 2a00:1450:400c:c08::80\n",
      "Connecting to storage.googleapis.com (storage.googleapis.com)|74.125.133.128|:443... connected.\n",
      "HTTP request sent, awaiting response... 200 OK\n",
      "Length: 93578 (91K) [text/plain]\n",
      "Saving to: ‘/tmp/sonnets.txt’\n",
      "\n",
      "\r",
      "/tmp/sonnets.txt      0%[                    ]       0  --.-KB/s               \r",
      "/tmp/sonnets.txt    100%[===================>]  91.38K  --.-KB/s    in 0.001s  \n",
      "\n",
      "2019-10-29 12:06:47 (122 MB/s) - ‘/tmp/sonnets.txt’ saved [93578/93578]\n",
      "\n"
     ]
    }
   ],
   "source": [
    "tokenizer = Tokenizer()\n",
    "!wget --no-check-certificate \\\n",
    "    https://storage.googleapis.com/laurencemoroney-blog.appspot.com/sonnets.txt \\\n",
    "    -O /tmp/sonnets.txt\n",
    "data = open('/tmp/sonnets.txt').read()\n",
    "\n",
    "corpus = data.lower().split(\"\\n\")\n",
    "\n",
    "\n",
    "tokenizer.fit_on_texts(corpus)\n",
    "total_words = len(tokenizer.word_index) + 1\n",
    "\n",
    "# create input sequences using list of tokens\n",
    "input_sequences = []\n",
    "for line in corpus:\n",
    "\ttoken_list = tokenizer.texts_to_sequences([line])[0]\n",
    "\tfor i in range(1, len(token_list)):\n",
    "\t\tn_gram_sequence = token_list[:i+1]\n",
    "\t\tinput_sequences.append(n_gram_sequence)\n",
    "\n",
    "\n",
    "# pad sequences \n",
    "max_sequence_len = max([len(x) for x in input_sequences])\n",
    "input_sequences = np.array(pad_sequences(input_sequences, maxlen=max_sequence_len, padding='pre'))\n",
    "\n",
    "# create predictors and label\n",
    "predictors, label = input_sequences[:,:-1],input_sequences[:,-1]\n",
    "\n",
    "label = ku.to_categorical(label, num_classes=total_words)"
   ]
  },
  {
   "cell_type": "code",
   "execution_count": 3,
   "metadata": {
    "colab": {
     "base_uri": "https://localhost:8080/",
     "height": 661
    },
    "colab_type": "code",
    "id": "w9vH8Y59ajYL",
    "outputId": "aac4f94c-1cdc-400f-c9f6-a5eb8c1cad8a"
   },
   "outputs": [
    {
     "name": "stdout",
     "output_type": "stream",
     "text": [
      "WARNING:tensorflow:From /usr/local/lib/python3.6/dist-packages/tensorflow_core/python/keras/initializers.py:119: calling RandomUniform.__init__ (from tensorflow.python.ops.init_ops) with dtype is deprecated and will be removed in a future version.\n",
      "Instructions for updating:\n",
      "Call initializer instance with the dtype argument instead of passing it to the constructor\n",
      "WARNING:tensorflow:From /usr/local/lib/python3.6/dist-packages/tensorflow_core/python/ops/resource_variable_ops.py:1630: calling BaseResourceVariable.__init__ (from tensorflow.python.ops.resource_variable_ops) with constraint is deprecated and will be removed in a future version.\n",
      "Instructions for updating:\n",
      "If using Keras pass *_constraint arguments to layers.\n",
      "WARNING:tensorflow:From /usr/local/lib/python3.6/dist-packages/tensorflow_core/python/ops/init_ops.py:97: calling GlorotUniform.__init__ (from tensorflow.python.ops.init_ops) with dtype is deprecated and will be removed in a future version.\n",
      "Instructions for updating:\n",
      "Call initializer instance with the dtype argument instead of passing it to the constructor\n",
      "WARNING:tensorflow:From /usr/local/lib/python3.6/dist-packages/tensorflow_core/python/ops/init_ops.py:97: calling Orthogonal.__init__ (from tensorflow.python.ops.init_ops) with dtype is deprecated and will be removed in a future version.\n",
      "Instructions for updating:\n",
      "Call initializer instance with the dtype argument instead of passing it to the constructor\n",
      "WARNING:tensorflow:From /usr/local/lib/python3.6/dist-packages/tensorflow_core/python/ops/init_ops.py:97: calling Zeros.__init__ (from tensorflow.python.ops.init_ops) with dtype is deprecated and will be removed in a future version.\n",
      "Instructions for updating:\n",
      "Call initializer instance with the dtype argument instead of passing it to the constructor\n",
      "Model: \"sequential\"\n",
      "_________________________________________________________________\n",
      "Layer (type)                 Output Shape              Param #   \n",
      "=================================================================\n",
      "embedding (Embedding)        (None, 10, 100)           321100    \n",
      "_________________________________________________________________\n",
      "bidirectional (Bidirectional (None, 10, 300)           301200    \n",
      "_________________________________________________________________\n",
      "dropout (Dropout)            (None, 10, 300)           0         \n",
      "_________________________________________________________________\n",
      "lstm_1 (LSTM)                (None, 100)               160400    \n",
      "_________________________________________________________________\n",
      "dense (Dense)                (None, 1605)              162105    \n",
      "_________________________________________________________________\n",
      "dense_1 (Dense)              (None, 3211)              5156866   \n",
      "=================================================================\n",
      "Total params: 6,101,671\n",
      "Trainable params: 6,101,671\n",
      "Non-trainable params: 0\n",
      "_________________________________________________________________\n",
      "None\n"
     ]
    }
   ],
   "source": [
    "model = Sequential()\n",
    "model.add(Embedding(total_words, 100, input_length=max_sequence_len-1))\n",
    "model.add(Bidirectional(LSTM(150, return_sequences = True)))\n",
    "model.add(Dropout(0.2))\n",
    "model.add(LSTM(100))\n",
    "model.add(Dense(total_words/2, activation='relu', kernel_regularizer=regularizers.l2(0.01)))\n",
    "model.add(Dense(total_words, activation='softmax'))\n",
    "model.compile(loss='categorical_crossentropy', optimizer='adam', metrics=['accuracy'])\n",
    "print(model.summary())\n"
   ]
  },
  {
   "cell_type": "code",
   "execution_count": 4,
   "metadata": {
    "colab": {
     "base_uri": "https://localhost:8080/",
     "height": 1000
    },
    "colab_type": "code",
    "id": "AIg2f1HBxqof",
    "outputId": "ab548c2a-7356-4ba7-99e3-aabaaa45d810"
   },
   "outputs": [
    {
     "name": "stdout",
     "output_type": "stream",
     "text": [
      "WARNING:tensorflow:From /usr/local/lib/python3.6/dist-packages/tensorflow_core/python/ops/math_grad.py:1424: where (from tensorflow.python.ops.array_ops) is deprecated and will be removed in a future version.\n",
      "Instructions for updating:\n",
      "Use tf.where in 2.0, which has the same broadcast rule as np.where\n",
      "Train on 15462 samples\n",
      "Epoch 1/100\n",
      "15462/15462 [==============================] - 32s 2ms/sample - loss: 6.9034 - acc: 0.0204\n",
      "Epoch 2/100\n",
      "15462/15462 [==============================] - 30s 2ms/sample - loss: 6.5051 - acc: 0.0214\n",
      "Epoch 3/100\n",
      "15462/15462 [==============================] - 30s 2ms/sample - loss: 6.3973 - acc: 0.0266\n",
      "Epoch 4/100\n",
      "15462/15462 [==============================] - 30s 2ms/sample - loss: 6.2763 - acc: 0.0294\n",
      "Epoch 5/100\n",
      "15462/15462 [==============================] - 29s 2ms/sample - loss: 6.1763 - acc: 0.0377\n",
      "Epoch 6/100\n",
      "15462/15462 [==============================] - 29s 2ms/sample - loss: 6.0904 - acc: 0.0398\n",
      "Epoch 7/100\n",
      "15462/15462 [==============================] - 29s 2ms/sample - loss: 6.0103 - acc: 0.0420\n",
      "Epoch 8/100\n",
      "15462/15462 [==============================] - 29s 2ms/sample - loss: 5.9197 - acc: 0.0454\n",
      "Epoch 9/100\n",
      "15462/15462 [==============================] - 29s 2ms/sample - loss: 5.8174 - acc: 0.0522\n",
      "Epoch 10/100\n",
      "15462/15462 [==============================] - 30s 2ms/sample - loss: 5.7141 - acc: 0.0611\n",
      "Epoch 11/100\n",
      "15462/15462 [==============================] - 30s 2ms/sample - loss: 5.6025 - acc: 0.0661\n",
      "Epoch 12/100\n",
      "15462/15462 [==============================] - 29s 2ms/sample - loss: 5.4919 - acc: 0.0710\n",
      "Epoch 13/100\n",
      "15462/15462 [==============================] - 29s 2ms/sample - loss: 5.3819 - acc: 0.0790\n",
      "Epoch 14/100\n",
      "15462/15462 [==============================] - 30s 2ms/sample - loss: 5.2771 - acc: 0.0838\n",
      "Epoch 15/100\n",
      "15462/15462 [==============================] - 30s 2ms/sample - loss: 5.1683 - acc: 0.0911\n",
      "Epoch 16/100\n",
      "15462/15462 [==============================] - 29s 2ms/sample - loss: 5.0647 - acc: 0.0961\n",
      "Epoch 17/100\n",
      "15462/15462 [==============================] - 30s 2ms/sample - loss: 4.9532 - acc: 0.1055\n",
      "Epoch 18/100\n",
      "15462/15462 [==============================] - 29s 2ms/sample - loss: 4.8460 - acc: 0.1127\n",
      "Epoch 19/100\n",
      "15462/15462 [==============================] - 29s 2ms/sample - loss: 4.7413 - acc: 0.1193\n",
      "Epoch 20/100\n",
      "15462/15462 [==============================] - 29s 2ms/sample - loss: 4.6409 - acc: 0.1315\n",
      "Epoch 21/100\n",
      "15462/15462 [==============================] - 30s 2ms/sample - loss: 4.5340 - acc: 0.1402\n",
      "Epoch 22/100\n",
      "15462/15462 [==============================] - 30s 2ms/sample - loss: 4.4267 - acc: 0.1545\n",
      "Epoch 23/100\n",
      "15462/15462 [==============================] - 30s 2ms/sample - loss: 4.3210 - acc: 0.1634\n",
      "Epoch 24/100\n",
      "15462/15462 [==============================] - 30s 2ms/sample - loss: 4.2260 - acc: 0.1728\n",
      "Epoch 25/100\n",
      "15462/15462 [==============================] - 30s 2ms/sample - loss: 4.1171 - acc: 0.1903\n",
      "Epoch 26/100\n",
      "15462/15462 [==============================] - 30s 2ms/sample - loss: 4.0151 - acc: 0.2070\n",
      "Epoch 27/100\n",
      "15462/15462 [==============================] - 30s 2ms/sample - loss: 3.9175 - acc: 0.2202\n",
      "Epoch 28/100\n",
      "15462/15462 [==============================] - 29s 2ms/sample - loss: 3.8200 - acc: 0.2382\n",
      "Epoch 29/100\n",
      "15462/15462 [==============================] - 30s 2ms/sample - loss: 3.7244 - acc: 0.2525\n",
      "Epoch 30/100\n",
      "15462/15462 [==============================] - 29s 2ms/sample - loss: 3.6306 - acc: 0.2711\n",
      "Epoch 31/100\n",
      "15462/15462 [==============================] - 29s 2ms/sample - loss: 3.5333 - acc: 0.2937\n",
      "Epoch 32/100\n",
      "15462/15462 [==============================] - 29s 2ms/sample - loss: 3.4422 - acc: 0.3139\n",
      "Epoch 33/100\n",
      "15462/15462 [==============================] - 29s 2ms/sample - loss: 3.3680 - acc: 0.3279\n",
      "Epoch 34/100\n",
      "15462/15462 [==============================] - 29s 2ms/sample - loss: 3.2814 - acc: 0.3475\n",
      "Epoch 35/100\n",
      "15462/15462 [==============================] - 30s 2ms/sample - loss: 3.2015 - acc: 0.3624\n",
      "Epoch 36/100\n",
      "15462/15462 [==============================] - 30s 2ms/sample - loss: 3.1219 - acc: 0.3828\n",
      "Epoch 37/100\n",
      "15462/15462 [==============================] - 29s 2ms/sample - loss: 3.0375 - acc: 0.4015\n",
      "Epoch 38/100\n",
      "15462/15462 [==============================] - 29s 2ms/sample - loss: 2.9688 - acc: 0.4185\n",
      "Epoch 39/100\n",
      "15462/15462 [==============================] - 29s 2ms/sample - loss: 2.9015 - acc: 0.4305\n",
      "Epoch 40/100\n",
      "15462/15462 [==============================] - 29s 2ms/sample - loss: 2.8402 - acc: 0.4461\n",
      "Epoch 41/100\n",
      "15462/15462 [==============================] - 29s 2ms/sample - loss: 2.7617 - acc: 0.4675\n",
      "Epoch 42/100\n",
      "15462/15462 [==============================] - 29s 2ms/sample - loss: 2.6955 - acc: 0.4743\n",
      "Epoch 43/100\n",
      "15462/15462 [==============================] - 29s 2ms/sample - loss: 2.6536 - acc: 0.4905\n",
      "Epoch 44/100\n",
      "15462/15462 [==============================] - 29s 2ms/sample - loss: 2.5872 - acc: 0.5003\n",
      "Epoch 45/100\n",
      "15462/15462 [==============================] - 29s 2ms/sample - loss: 2.5245 - acc: 0.5202\n",
      "Epoch 46/100\n",
      "15462/15462 [==============================] - 29s 2ms/sample - loss: 2.4706 - acc: 0.5264\n",
      "Epoch 47/100\n",
      "15462/15462 [==============================] - 30s 2ms/sample - loss: 2.4108 - acc: 0.5418\n",
      "Epoch 48/100\n",
      "15462/15462 [==============================] - 30s 2ms/sample - loss: 2.3670 - acc: 0.5517\n",
      "Epoch 49/100\n",
      "15462/15462 [==============================] - 29s 2ms/sample - loss: 2.3142 - acc: 0.5602\n",
      "Epoch 50/100\n",
      "15462/15462 [==============================] - 29s 2ms/sample - loss: 2.2721 - acc: 0.5714\n",
      "Epoch 51/100\n",
      "15462/15462 [==============================] - 29s 2ms/sample - loss: 2.2365 - acc: 0.5760\n",
      "Epoch 52/100\n",
      "15462/15462 [==============================] - 29s 2ms/sample - loss: 2.1688 - acc: 0.5995\n",
      "Epoch 53/100\n",
      "15462/15462 [==============================] - 29s 2ms/sample - loss: 2.1362 - acc: 0.6037\n",
      "Epoch 54/100\n",
      "15462/15462 [==============================] - 29s 2ms/sample - loss: 2.1054 - acc: 0.6133\n",
      "Epoch 55/100\n",
      "15462/15462 [==============================] - 29s 2ms/sample - loss: 2.0583 - acc: 0.6203\n",
      "Epoch 56/100\n",
      "15462/15462 [==============================] - 29s 2ms/sample - loss: 2.0202 - acc: 0.6272\n",
      "Epoch 57/100\n",
      "15462/15462 [==============================] - 29s 2ms/sample - loss: 1.9950 - acc: 0.6361\n",
      "Epoch 58/100\n",
      "15462/15462 [==============================] - 29s 2ms/sample - loss: 1.9558 - acc: 0.6416\n",
      "Epoch 59/100\n",
      "15462/15462 [==============================] - 30s 2ms/sample - loss: 1.9151 - acc: 0.6517\n",
      "Epoch 60/100\n",
      "15462/15462 [==============================] - 30s 2ms/sample - loss: 1.8741 - acc: 0.6602\n",
      "Epoch 61/100\n",
      "15462/15462 [==============================] - 30s 2ms/sample - loss: 1.8409 - acc: 0.6672\n",
      "Epoch 62/100\n",
      "15462/15462 [==============================] - 30s 2ms/sample - loss: 1.8115 - acc: 0.6746\n",
      "Epoch 63/100\n",
      "15462/15462 [==============================] - 29s 2ms/sample - loss: 1.7838 - acc: 0.6804\n",
      "Epoch 64/100\n",
      "15462/15462 [==============================] - 29s 2ms/sample - loss: 1.7420 - acc: 0.6924\n",
      "Epoch 65/100\n",
      "15462/15462 [==============================] - 29s 2ms/sample - loss: 1.7366 - acc: 0.6884\n",
      "Epoch 66/100\n",
      "15462/15462 [==============================] - 29s 2ms/sample - loss: 1.7001 - acc: 0.6947\n",
      "Epoch 67/100\n",
      "15462/15462 [==============================] - 29s 2ms/sample - loss: 1.6671 - acc: 0.7052\n",
      "Epoch 68/100\n",
      "15462/15462 [==============================] - 29s 2ms/sample - loss: 1.6531 - acc: 0.7052\n",
      "Epoch 69/100\n",
      "15462/15462 [==============================] - 29s 2ms/sample - loss: 1.6230 - acc: 0.7126\n",
      "Epoch 70/100\n",
      "15462/15462 [==============================] - 30s 2ms/sample - loss: 1.5982 - acc: 0.7165\n",
      "Epoch 71/100\n",
      "15462/15462 [==============================] - 30s 2ms/sample - loss: 1.5804 - acc: 0.7190\n",
      "Epoch 72/100\n",
      "15462/15462 [==============================] - 30s 2ms/sample - loss: 1.5482 - acc: 0.7294\n",
      "Epoch 73/100\n",
      "15462/15462 [==============================] - 29s 2ms/sample - loss: 1.5333 - acc: 0.7288\n",
      "Epoch 74/100\n",
      "15462/15462 [==============================] - 29s 2ms/sample - loss: 1.5184 - acc: 0.7313\n",
      "Epoch 75/100\n",
      "15462/15462 [==============================] - 29s 2ms/sample - loss: 1.4837 - acc: 0.7399\n",
      "Epoch 76/100\n",
      "15462/15462 [==============================] - 29s 2ms/sample - loss: 1.4624 - acc: 0.7444\n",
      "Epoch 77/100\n",
      "15462/15462 [==============================] - 29s 2ms/sample - loss: 1.4533 - acc: 0.7465\n",
      "Epoch 78/100\n",
      "15462/15462 [==============================] - 29s 2ms/sample - loss: 1.4258 - acc: 0.7509\n",
      "Epoch 79/100\n",
      "15462/15462 [==============================] - 29s 2ms/sample - loss: 1.4208 - acc: 0.7493\n",
      "Epoch 80/100\n",
      "15462/15462 [==============================] - 29s 2ms/sample - loss: 1.4033 - acc: 0.7559\n",
      "Epoch 81/100\n",
      "15462/15462 [==============================] - 29s 2ms/sample - loss: 1.3882 - acc: 0.7581\n",
      "Epoch 82/100\n",
      "15462/15462 [==============================] - 30s 2ms/sample - loss: 1.3682 - acc: 0.7614\n",
      "Epoch 83/100\n",
      "15462/15462 [==============================] - 30s 2ms/sample - loss: 1.3493 - acc: 0.7634\n",
      "Epoch 84/100\n",
      "15462/15462 [==============================] - 29s 2ms/sample - loss: 1.3422 - acc: 0.7678\n",
      "Epoch 85/100\n",
      "15462/15462 [==============================] - 30s 2ms/sample - loss: 1.3250 - acc: 0.7711\n",
      "Epoch 86/100\n",
      "15462/15462 [==============================] - 29s 2ms/sample - loss: 1.3028 - acc: 0.7731\n",
      "Epoch 87/100\n",
      "15462/15462 [==============================] - 29s 2ms/sample - loss: 1.2814 - acc: 0.7767\n",
      "Epoch 88/100\n",
      "15462/15462 [==============================] - 29s 2ms/sample - loss: 1.2837 - acc: 0.7755\n",
      "Epoch 89/100\n",
      "15462/15462 [==============================] - 29s 2ms/sample - loss: 1.2786 - acc: 0.7765\n",
      "Epoch 90/100\n",
      "15462/15462 [==============================] - 29s 2ms/sample - loss: 1.2627 - acc: 0.7774\n",
      "Epoch 91/100\n",
      "15462/15462 [==============================] - 30s 2ms/sample - loss: 1.2365 - acc: 0.7856\n",
      "Epoch 92/100\n",
      "15462/15462 [==============================] - 30s 2ms/sample - loss: 1.2250 - acc: 0.7848\n",
      "Epoch 93/100\n",
      "15462/15462 [==============================] - 30s 2ms/sample - loss: 1.2139 - acc: 0.7879\n",
      "Epoch 94/100\n",
      "15462/15462 [==============================] - 30s 2ms/sample - loss: 1.2016 - acc: 0.7910\n",
      "Epoch 95/100\n",
      "15462/15462 [==============================] - 32s 2ms/sample - loss: 1.2111 - acc: 0.7864\n",
      "Epoch 96/100\n",
      "15462/15462 [==============================] - 30s 2ms/sample - loss: 1.1866 - acc: 0.7925\n",
      "Epoch 97/100\n",
      "15462/15462 [==============================] - 31s 2ms/sample - loss: 1.1697 - acc: 0.7961\n",
      "Epoch 98/100\n",
      "15462/15462 [==============================] - 31s 2ms/sample - loss: 1.1606 - acc: 0.7971\n",
      "Epoch 99/100\n",
      "15462/15462 [==============================] - 30s 2ms/sample - loss: 1.1555 - acc: 0.8003\n",
      "Epoch 100/100\n",
      "15462/15462 [==============================] - 30s 2ms/sample - loss: 1.1450 - acc: 0.7989\n"
     ]
    }
   ],
   "source": [
    " history = model.fit(predictors, label, epochs=100, verbose=1)"
   ]
  },
  {
   "cell_type": "code",
   "execution_count": 5,
   "metadata": {
    "colab": {
     "base_uri": "https://localhost:8080/",
     "height": 545
    },
    "colab_type": "code",
    "id": "1fXTEO3GJ282",
    "outputId": "c8b2a8dc-b8b8-48fa-d490-81d25dfab172"
   },
   "outputs": [
    {
     "data": {
      "image/png": "[encoded data removed]",
      "text/plain": [
       "<Figure size 432x288 with 1 Axes>"
      ]
     },
     "metadata": {
      "tags": []
     },
     "output_type": "display_data"
    },
    {
     "data": {
      "image/png": "[encoded data removed]",
      "text/plain": [
       "<Figure size 432x288 with 1 Axes>"
      ]
     },
     "metadata": {
      "tags": []
     },
     "output_type": "display_data"
    }
   ],
   "source": [
    "import matplotlib.pyplot as plt\n",
    "acc = history.history['acc']\n",
    "loss = history.history['loss']\n",
    "\n",
    "epochs = range(len(acc))\n",
    "\n",
    "plt.plot(epochs, acc, 'b', label='Training accuracy')\n",
    "plt.title('Training accuracy')\n",
    "\n",
    "plt.figure()\n",
    "\n",
    "plt.plot(epochs, loss, 'b', label='Training Loss')\n",
    "plt.title('Training loss')\n",
    "plt.legend()\n",
    "\n",
    "plt.show()"
   ]
  },
  {
   "cell_type": "code",
   "execution_count": 6,
   "metadata": {
    "colab": {
     "base_uri": "https://localhost:8080/",
     "height": 55
    },
    "colab_type": "code",
    "id": "6Vc6PHgxa6Hm",
    "outputId": "8705acce-d9dd-47cd-caab-495dad3ad0b6"
   },
   "outputs": [
    {
     "name": "stdout",
     "output_type": "stream",
     "text": [
      "Help me Obi Wan Kenobi, you're my only hope up our rich must shown kind ' are may under prove good hate weep quite grow than find bail shall confounds some chary dead knife rare rare lies acquainted buried rhyme ' can can recite lie by thee do not forsworn for thee living foes ground glory thee in heaven her rhyme ' shows so confounds rolling thee are do make this show hide eyes of my bed prove life o'er light lie still aside ' can warm'd light write for me doth brought her friend ' can brought there confounds young glory still will mayst take mine eyes be\n"
     ]
    }
   ],
   "source": [
    "seed_text = \"Help me Obi Wan Kenobi, you're my only hope\"\n",
    "next_words = 100\n",
    "  \n",
    "for _ in range(next_words):\n",
    "\ttoken_list = tokenizer.texts_to_sequences([seed_text])[0]\n",
    "\ttoken_list = pad_sequences([token_list], maxlen=max_sequence_len-1, padding='pre')\n",
    "\tpredicted = model.predict_classes(token_list, verbose=0)\n",
    "\toutput_word = \"\"\n",
    "\tfor word, index in tokenizer.word_index.items():\n",
    "\t\tif index == predicted:\n",
    "\t\t\toutput_word = word\n",
    "\t\t\tbreak\n",
    "\tseed_text += \" \" + output_word\n",
    "print(seed_text)"
   ]
  }
 ],
 "metadata": {
  "accelerator": "GPU",
  "colab": {
   "name": "c3w4e2_excercise_shakespeare.ipynb",
   "provenance": []
  },
  "kernelspec": {
   "display_name": "Python 3",
   "language": "python",
   "name": "python3"
  },
  "language_info": {
   "codemirror_mode": {
    "name": "ipython",
    "version": 3
   },
   "file_extension": ".py",
   "mimetype": "text/x-python",
   "name": "python",
   "nbconvert_exporter": "python",
   "pygments_lexer": "ipython3",
   "version": "3.7.4"
  }
 },
 "nbformat": 4,
 "nbformat_minor": 1
}
